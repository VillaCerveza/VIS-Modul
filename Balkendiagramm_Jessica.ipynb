{
 "cells": [
  {
   "cell_type": "code",
   "execution_count": 1,
   "id": "0fe2df53",
   "metadata": {},
   "outputs": [
    {
     "data": {
      "text/html": [
       "\n",
       "        <iframe\n",
       "            width=\"100%\"\n",
       "            height=\"650\"\n",
       "            src=\"http://127.0.0.1:8002/\"\n",
       "            frameborder=\"0\"\n",
       "            allowfullscreen\n",
       "            \n",
       "        ></iframe>\n",
       "        "
      ],
      "text/plain": [
       "<IPython.lib.display.IFrame at 0x1d66600ff50>"
      ]
     },
     "metadata": {},
     "output_type": "display_data"
    }
   ],
   "source": [
    "# Bibliotheken importieren\n",
    "import math\n",
    "from dash import Dash, dcc, html, Input, Output\n",
    "import pandas as pd\n",
    "import plotly.express as px\n",
    "import numpy as np\n",
    "import dash_bootstrap_components as dbc\n",
    "\n",
    "# GitHub-Dateipfad definieren\n",
    "github_path = \"https://github.com/VillaCerveza/VIS-Modul/raw/main/BEREINIGT_ohne_Autoren_top_100.csv\"\n",
    "\n",
    "# CSV-Datei von GitHub einlesen\n",
    "df = pd.read_csv(github_path)\n",
    "\n",
    "# nach Originalsprache wird gruppiert und danach der Durchschnitt der Verkaufszahlen berechnet \n",
    "df_grouped = df.groupby('Original language')['Approximate sales in millions'].mean().reset_index()\n",
    "\n",
    "fig = px.bar(df_grouped, x='Original language', y='Approximate sales in millions',\n",
    "                 labels={'Approximate sales in millions': 'Average Sales Figures (Million)'},\n",
    "                 title=f'Durchschnittlicher Verkauf der Bücher nach Sprache')\n",
    "\n",
    "# Dash-Web App \n",
    "app = Dash(__name__, external_stylesheets=[dbc.themes.BOOTSTRAP])\n",
    "\n",
    "# Layout der App\n",
    "app.layout = html.Div([\n",
    "    html.H1(\"Durchschnittliche Verkaufszahlen nach Originalsprache\"),\n",
    "    dcc.Graph(id='balkendiagramm_originalsprache', figure=fig)\n",
    "])\n",
    "\n",
    "# Dash-App starten\n",
    "if __name__ == '__main__':\n",
    "    app.run_server(debug=False, port=8002)"
   ]
  },
  {
   "cell_type": "code",
   "execution_count": null,
   "id": "209e3ca9",
   "metadata": {},
   "outputs": [],
   "source": []
  }
 ],
 "metadata": {
  "kernelspec": {
   "display_name": "Python 3 (ipykernel)",
   "language": "python",
   "name": "python3"
  },
  "language_info": {
   "codemirror_mode": {
    "name": "ipython",
    "version": 3
   },
   "file_extension": ".py",
   "mimetype": "text/x-python",
   "name": "python",
   "nbconvert_exporter": "python",
   "pygments_lexer": "ipython3",
   "version": "3.11.5"
  }
 },
 "nbformat": 4,
 "nbformat_minor": 5
}
