{
 "cells": [
  {
   "cell_type": "code",
   "execution_count": null,
   "id": "2efbc659",
   "metadata": {},
   "outputs": [
    {
     "name": "stdout",
     "output_type": "stream",
     "text": [
      "Dash is running on http://127.0.0.1:8000/\n",
      "\n",
      " * Serving Flask app '__main__'\n",
      " * Debug mode: off\n"
     ]
    },
    {
     "name": "stderr",
     "output_type": "stream",
     "text": [
      "WARNING: This is a development server. Do not use it in a production deployment. Use a production WSGI server instead.\n",
      " * Running on http://127.0.0.1:8000\n",
      "Press CTRL+C to quit\n"
     ]
    }
   ],
   "source": [
    "import math\n",
    "from dash import Dash, dcc, html, Input, Output\n",
    "import plotly.express as px\n",
    "import numpy as np\n",
    "import pandas as pd\n",
    "import dash_bootstrap_components as dbc\n",
    "\n",
    "app = Dash(__name__, external_stylesheets=[dbc.themes.BOOTSTRAP])\n",
    "\n",
    "# generate random normal distributed data for x and y\n",
    "# and store it in a pandas DataFrame\n",
    "\n",
    "df = pd.DataFrame({'y': np.random.normal(loc=0, scale=10, size=1000),\n",
    "                   'x': np.random.normal(loc=10, scale=2, size=1000)})\n",
    "\n",
    "min_range = math.floor(df['y'].min())\n",
    "max_range = math.ceil(df['y'].max())\n",
    "mark1 = 10\n",
    "\n",
    "marks = {i: str(i) for i in range(min_range, max_range + 1, mark1)}\n",
    "\n",
    "app.layout = html.Div([html.H1(\"Dashboard 2\"),\n",
    "    dbc.Row([dbc.Col([dcc.Dropdown(options=['red', 'green', 'blue'], value='red', id='color', multi=False)], width=6),\n",
    "             dbc.Col(\n",
    "                 [dcc.RangeSlider\n",
    "                      (min=min_range, \n",
    "                       max=max_range, \n",
    "                       id=\"range_slider\",\n",
    "                       marks=marks,\n",
    "                        value=[df['y'].min(), df['y'].max()]\n",
    "                      )\n",
    "                ], width=6)\n",
    "    ]),\n",
    "    dbc.Row([dbc.Col([dcc.Graph(id=\"graph_1\")], width=6),\n",
    "             dbc.Col([dcc.Graph(id=\"graph_2\")], width=6)\n",
    "    ])], className=\"m-4\")\n",
    "\n",
    "@app.callback(Output(\"graph_1\", \"figure\"), Input(\"color\", \"value\"))\n",
    "\n",
    "def update_graph_1(dropdown_value_color):\n",
    "    fig = px.histogram(df, x=\"y\", color_discrete_sequence=[dropdown_value_color])\n",
    "    fig.update_layout()\n",
    "    return fig\n",
    "\n",
    "@app.callback(Output(\"graph_2\", \"figure\"), Input(\"range_slider\", \"value\"))\n",
    "\n",
    "def update_graph_2(range_slider):\n",
    "    dff = df[(df['y'] >= range_slider[0]) & (df['y'] <= range_slider[1])\n",
    "            ] \n",
    "    fig = px.scatter(dff, x='x', y='y')\n",
    "    fig.update_layout()\n",
    "    return fig\n",
    "\n",
    "if __name__ == '__main__':\n",
    "    app.run_server(debug=False, port=8000)"
   ]
  },
  {
   "cell_type": "code",
   "execution_count": null,
   "id": "26eb0730",
   "metadata": {},
   "outputs": [],
   "source": []
  }
 ],
 "metadata": {
  "kernelspec": {
   "display_name": "Python 3 (ipykernel)",
   "language": "python",
   "name": "python3"
  },
  "language_info": {
   "codemirror_mode": {
    "name": "ipython",
    "version": 3
   },
   "file_extension": ".py",
   "mimetype": "text/x-python",
   "name": "python",
   "nbconvert_exporter": "python",
   "pygments_lexer": "ipython3",
   "version": "3.11.5"
  }
 },
 "nbformat": 4,
 "nbformat_minor": 5
}
